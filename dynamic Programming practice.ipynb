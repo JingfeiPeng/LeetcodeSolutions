{
 "cells": [
  {
   "cell_type": "markdown",
   "metadata": {},
   "source": [
    "<b>the minium number of steps to get a number to 1</b>\n",
    "\n",
    "can either  \n",
    "    1) subtract 1  \n",
    "    2) divide by 2  \n",
    "    3) divide by 3  \n",
    "ex)  \n",
    "   10 => 3 steps (10 => 9 => 3 => 1)  \n",
    "   15 => 4 steps (15 => 5 => 4 => 2 => 1)  "
   ]
  },
  {
   "cell_type": "code",
   "execution_count": 2,
   "metadata": {},
   "outputs": [],
   "source": [
    "class Tree:\n",
    "    def __init__(self, val, left=None, right=None):\n",
    "        self.val = val\n",
    "        self.left  = left\n",
    "        self.right = right\n",
    "\n",
    "    def __str__(self):\n",
    "        return str(self.val)"
   ]
  },
  {
   "cell_type": "code",
   "execution_count": 11,
   "metadata": {},
   "outputs": [],
   "source": [
    "# many calculations are duplicated\n",
    "# time O(3^n)\n",
    "def getMinSteps(n):\n",
    "    if n == 1: return 0\n",
    "    # recurse by subtracting 1\n",
    "    result = getMinSteps(n-1)\n",
    "    if n % 2 == 0:\n",
    "        result = min(result, getMinSteps(n/2))\n",
    "    if n % 3 == 0:\n",
    "        result = min(result, getMinSteps(n/3))\n",
    "    return result + 1"
   ]
  },
  {
   "cell_type": "code",
   "execution_count": 12,
   "metadata": {},
   "outputs": [],
   "source": [
    "assert getMinSteps(10) == 3\n",
    "assert getMinSteps(15) == 4"
   ]
  },
  {
   "cell_type": "code",
   "execution_count": 64,
   "metadata": {},
   "outputs": [],
   "source": [
    "#used caching, memorization\n",
    "# time O(n) ?\n",
    "# space: O(n) ?\n",
    "class Solution:\n",
    "    @staticmethod\n",
    "    def solve(n):\n",
    "        memoArr = [ 0 for x in range(n+1)]\n",
    "        return Solution.getMinStepsMemo(n, memoArr)\n",
    "\n",
    "    @staticmethod\n",
    "    def getMinStepsMemo(n, memoArr):\n",
    "        if n == 1: return 0\n",
    "        \n",
    "        if memoArr[n] != 0:\n",
    "            return memoArr[n]\n",
    "        \n",
    "        # recurse by subtracting 1\n",
    "        result = Solution.getMinStepsMemo(n-1, memoArr)\n",
    "        if n % 2 == 0:\n",
    "            result = min(result, Solution.getMinStepsMemo(n//2, memoArr))\n",
    "        if n % 3 == 0:\n",
    "            result = min(result, Solution.getMinStepsMemo(n//3, memoArr))\n",
    "        \n",
    "        memoArr[n] = result + 1\n",
    "        return result + 1"
   ]
  },
  {
   "cell_type": "code",
   "execution_count": 84,
   "metadata": {},
   "outputs": [
    {
     "data": {
      "text/plain": [
       "9"
      ]
     },
     "execution_count": 84,
     "metadata": {},
     "output_type": "execute_result"
    }
   ],
   "source": [
    "Solution.solve(1000)\n",
    "# but if n is 10000, reaches stackoverflow because of recursion\n",
    "# Solution.solve(10000) -> maximum recursion depth exceeded in comparison"
   ]
  },
  {
   "cell_type": "code",
   "execution_count": 85,
   "metadata": {},
   "outputs": [],
   "source": [
    "# tabulation: going from bottom up and use iteration\n",
    "# time O(n)\n",
    "# space O(n)\n",
    "class Solution2:\n",
    "    @staticmethod\n",
    "    def solve(n):\n",
    "        memoArr = [ float('inf') for x in range(n+1)]\n",
    "        memoArr[1] = 0\n",
    "        return Solution2.getMinStepsMemo(n, memoArr)\n",
    "\n",
    "    @staticmethod\n",
    "    def getMinStepsMemo(n, memoArr):\n",
    "        for i in range(1, n):\n",
    "            if i * 3 <= n:\n",
    "                memoArr[i*3] = min(memoArr[i*3], memoArr[i]+1)\n",
    "            if i * 2 <= n:\n",
    "                memoArr[i*2] = min(memoArr[i*2], memoArr[i]+1)\n",
    "            memoArr[i+1] = min(memoArr[i+1], memoArr[i]+1)\n",
    "        return memoArr[n]"
   ]
  },
  {
   "cell_type": "code",
   "execution_count": 77,
   "metadata": {},
   "outputs": [
    {
     "data": {
      "text/plain": [
       "3"
      ]
     },
     "execution_count": 77,
     "metadata": {},
     "output_type": "execute_result"
    }
   ],
   "source": [
    "Solution2.solve(10)"
   ]
  },
  {
   "cell_type": "code",
   "execution_count": 79,
   "metadata": {},
   "outputs": [
    {
     "data": {
      "text/plain": [
       "14"
      ]
     },
     "execution_count": 79,
     "metadata": {},
     "output_type": "execute_result"
    }
   ],
   "source": [
    "Solution2.solve(10000)"
   ]
  },
  {
   "cell_type": "code",
   "execution_count": null,
   "metadata": {},
   "outputs": [],
   "source": []
  }
 ],
 "metadata": {
  "kernelspec": {
   "display_name": "Python 3",
   "language": "python",
   "name": "python3"
  },
  "language_info": {
   "codemirror_mode": {
    "name": "ipython",
    "version": 3
   },
   "file_extension": ".py",
   "mimetype": "text/x-python",
   "name": "python",
   "nbconvert_exporter": "python",
   "pygments_lexer": "ipython3",
   "version": "3.7.3"
  }
 },
 "nbformat": 4,
 "nbformat_minor": 2
}
